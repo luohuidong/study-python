{
 "cells": [
  {
   "cell_type": "markdown",
   "metadata": {},
   "source": [
    "# 文件操作\n",
    "\n",
    "文件基本操作包括：打开、关闭、读取、写入。"
   ]
  },
  {
   "cell_type": "markdown",
   "metadata": {},
   "source": [
    "## 写文件\n",
    "\n",
    "`open()` 函数打开的模型不同，会影响写入的位置。`mode='w'` 会清空文件，然后写入内容。`mode=a` 会在文件结尾追加内容。"
   ]
  },
  {
   "cell_type": "code",
   "execution_count": 11,
   "metadata": {},
   "outputs": [],
   "source": [
    "import os\n",
    "os.makedirs('./tmp', exist_ok=True)\n",
    "\n",
    "# 打开文件\n",
    "file_handler = open('./tmp/file-example.txt', 'w', encoding='utf-8')\n",
    "\n",
    "# 往文件写入内容\n",
    "file_handler.write(\"example text \\n\" * 3)\n",
    "\n",
    "# 处理完文件后关闭文件\n",
    "file_handler.close()\n"
   ]
  },
  {
   "cell_type": "markdown",
   "metadata": {},
   "source": [
    "如果文件出现乱码，请注意是否编码不对。"
   ]
  },
  {
   "cell_type": "markdown",
   "metadata": {},
   "source": [
    "## 读取文件"
   ]
  },
  {
   "cell_type": "code",
   "execution_count": 10,
   "metadata": {},
   "outputs": [
    {
     "name": "stdout",
     "output_type": "stream",
     "text": [
      "example text \n",
      "\n",
      "example text \n",
      "\n",
      "example text \n",
      "\n"
     ]
    }
   ],
   "source": [
    "file_handler = open('./tmp/file-example.txt', 'r', encoding='utf-8')\n",
    "\n",
    "for line in file_handler:\n",
    "    print(line)\n",
    "\n",
    "file_handler.close()"
   ]
  },
  {
   "cell_type": "markdown",
   "metadata": {},
   "source": [
    "## 文件关闭\n",
    "\n",
    "在 Python 中操作文件时，需要调用 `close` 函数来关闭文件。以下是几个原因：\n",
    "\n",
    "1. **释放资源**：文件是系统资源，打开文件会占用系统资源，调用 `close` 函数可以释放这些资源。\n",
    "2. **写入数据**：对于写操作，调用 `close` 函数可以确保所有缓冲区中的数据被写入到文件中。\n",
    "3. **避免文件损坏**：如果不关闭文件，可能会导致文件损坏或数据丢失。\n",
    "4. **文件锁定**：某些操作系统会在文件打开时锁定文件，关闭文件可以解除锁定。"
   ]
  },
  {
   "cell_type": "code",
   "execution_count": 14,
   "metadata": {},
   "outputs": [],
   "source": [
    "# 打开文件进行写操作\n",
    "file = open('example.txt', 'w')\n",
    "file.write('Hello, World!')\n",
    "\n",
    "# 关闭文件\n",
    "file.close()"
   ]
  },
  {
   "cell_type": "markdown",
   "metadata": {},
   "source": [
    "\n",
    "\n",
    "使用 `with` 语句可以自动管理文件的打开和关闭：\n",
    "\n"
   ]
  },
  {
   "cell_type": "code",
   "execution_count": 15,
   "metadata": {},
   "outputs": [],
   "source": [
    "# 使用 with 语句自动管理文件\n",
    "with open('example.txt', 'w') as file:\n",
    "    file.write('Hello, World!')\n",
    "# 文件会在 with 语句块结束时自动关闭"
   ]
  }
 ],
 "metadata": {
  "kernelspec": {
   "display_name": "3.13.1",
   "language": "python",
   "name": "python3"
  },
  "language_info": {
   "codemirror_mode": {
    "name": "ipython",
    "version": 3
   },
   "file_extension": ".py",
   "mimetype": "text/x-python",
   "name": "python",
   "nbconvert_exporter": "python",
   "pygments_lexer": "ipython3",
   "version": "3.13.1"
  }
 },
 "nbformat": 4,
 "nbformat_minor": 2
}
