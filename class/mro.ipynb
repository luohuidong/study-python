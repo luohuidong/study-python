{
 "cells": [
  {
   "cell_type": "markdown",
   "metadata": {},
   "source": [
    "# Python中的方法解析顺序(MRO)详解\n",
    "\n",
    "## MRO基本概念\n",
    "\n",
    "方法解析顺序(Method Resolution Order, MRO)是Python在多重继承中用来确定方法和属性查找顺序的算法。当一个类有多个父类时，Python需要一种明确的方式来决定从哪个父类继承特定的属性或方法。\n",
    "\n",
    "## MRO的演变\n",
    "\n",
    "Python的MRO算法经历了几次演变：\n",
    "\n",
    "1. **Python 2.1及之前**: 简单的从左到右深度优先搜索\n",
    "2. **Python 2.2**: 引入了新式类，使用改进的搜索算法\n",
    "3. **Python 2.3+和Python 3**: 采用C3线性化算法\n",
    "\n",
    "## C3线性化算法\n",
    "\n",
    "Python 3使用的C3线性化算法具有以下特点：\n",
    "\n",
    "- 保证基类在派生类之前被检查\n",
    "- 保持子类优先于父类\n",
    "- 如果有多个父类，按照类定义中列出的顺序检查\n",
    "- 避免菱形继承问题中的重复查找\n",
    "\n",
    "## MRO的实际查看\n",
    "\n",
    "可以通过两种方式查看一个类的MRO：\n",
    "\n",
    "```py\n",
    "# 使用__mro__属性\n",
    "print(MyClass.__mro__)\n",
    "\n",
    "# 或者使用mro()方法\n",
    "print(MyClass.mro())\n",
    "```"
   ]
  },
  {
   "cell_type": "markdown",
   "metadata": {},
   "source": [
    "\n",
    "\n",
    "## MRO示例\n",
    "\n",
    "### 简单继承\n",
    "\n"
   ]
  },
  {
   "cell_type": "code",
   "execution_count": null,
   "metadata": {},
   "outputs": [],
   "source": [
    "class A:\n",
    "    pass\n",
    "\n",
    "class B(A):\n",
    "    pass\n",
    "\n",
    "# B的MRO: [B, A, object]"
   ]
  },
  {
   "cell_type": "markdown",
   "metadata": {},
   "source": [
    "\n",
    "\n",
    "### 多重继承\n",
    "\n"
   ]
  },
  {
   "cell_type": "code",
   "execution_count": null,
   "metadata": {},
   "outputs": [],
   "source": [
    "class A:\n",
    "    pass\n",
    "\n",
    "class B:\n",
    "    pass\n",
    "\n",
    "class C(A, B):\n",
    "    pass\n",
    "\n",
    "# C的MRO: [C, A, B, object]"
   ]
  },
  {
   "cell_type": "markdown",
   "metadata": {},
   "source": [
    "\n",
    "\n",
    "### 菱形继承\n",
    "\n"
   ]
  },
  {
   "cell_type": "code",
   "execution_count": null,
   "metadata": {},
   "outputs": [],
   "source": [
    "class A:\n",
    "    def method(self):\n",
    "        print(\"A\")\n",
    "\n",
    "class B(A):\n",
    "    def method(self):\n",
    "        print(\"B\")\n",
    "\n",
    "class C(A):\n",
    "    def method(self):\n",
    "        print(\"C\")\n",
    "\n",
    "class D(B, C):\n",
    "    pass\n",
    "\n",
    "# D的MRO: [D, B, C, A, object]\n",
    "# 调用D().method()会执行B中的方法"
   ]
  },
  {
   "cell_type": "markdown",
   "metadata": {},
   "source": [
    "\n",
    "\n",
    "## super()函数与MRO\n",
    "\n",
    "`super()`函数使用MRO来确定下一个要调用的方法：\n",
    "\n"
   ]
  },
  {
   "cell_type": "code",
   "execution_count": null,
   "metadata": {},
   "outputs": [],
   "source": [
    "class A:\n",
    "    def method(self):\n",
    "        print(\"A's method\")\n",
    "\n",
    "class B(A):\n",
    "    def method(self):\n",
    "        print(\"B's method\")\n",
    "        super().method()  # 调用MRO中下一个类(A)的method方法\n",
    "\n",
    "# 当调用B().method()时:\n",
    "# 输出 \"B's method\" 然后是 \"A's method\""
   ]
  },
  {
   "cell_type": "markdown",
   "metadata": {},
   "source": [
    "\n",
    "\n",
    "在多重继承中，`super()`会按照MRO顺序找到下一个类，这样可以确保每个父类的方法只被调用一次，避免了重复调用的问题。\n",
    "\n",
    "## MRO的实际应用\n",
    "\n",
    "理解MRO对于以下情况特别重要：\n",
    "- 调试复杂的继承层次结构\n",
    "- 使用混合类(mixins)\n",
    "- 设计使用多重继承的库\n",
    "- 理解`super()`的行为\n",
    "\n",
    "在设计类层次结构时，应该考虑MRO，确保方法和属性的查找行为符合预期。"
   ]
  }
 ],
 "metadata": {
  "language_info": {
   "name": "python"
  }
 },
 "nbformat": 4,
 "nbformat_minor": 2
}
