{
 "cells": [
  {
   "cell_type": "markdown",
   "metadata": {},
   "source": [
    "# 解析命令行参数"
   ]
  },
  {
   "cell_type": "markdown",
   "metadata": {},
   "source": [
    "`argparse` 模块是 Python 标准库中的一个模块，用于解析命令行参数和选项。它提供了一种简单而灵活的方式来处理命令行输入，使得编写用户友好的命令行接口变得容易。\n",
    "\n",
    "### 基本用法\n",
    "\n",
    "1. **创建 ArgumentParser 对象**：\n",
    "   ```python\n",
    "   import argparse\n",
    "   parser = argparse.ArgumentParser(description=\"这是一个示例程序\")\n",
    "   ```\n",
    "\n",
    "2. **添加参数**：\n",
    "   ```python\n",
    "   parser.add_argument('-n', '--name', type=str, help='用户的名字')\n",
    "   parser.add_argument('-a', '--age', type=int, help='用户的年龄')\n",
    "   parser.add_argument('-v', '--verbose', action='store_true', help='是否输出详细信息')\n",
    "   ```\n",
    "\n",
    "3. **解析参数**：\n",
    "   ```python\n",
    "   args = parser.parse_args()\n",
    "   ```\n",
    "\n",
    "4. **使用参数**：\n",
    "   ```python\n",
    "   if args.verbose:\n",
    "       print(f\"详细信息: 用户名是 {args.name}, 年龄是 {args.age}\")\n",
    "   else:\n",
    "       print(f\"用户名: {args.name}, 年龄: {args.age}\")\n",
    "   ```\n",
    "\n",
    "### 示例代码\n",
    "\n"
   ]
  },
  {
   "cell_type": "code",
   "execution_count": null,
   "metadata": {},
   "outputs": [],
   "source": [
    "import argparse\n",
    "\n",
    "def main():\n",
    "    parser = argparse.ArgumentParser(description=\"示例解析命令行参数\")\n",
    "    \n",
    "    # 添加参数\n",
    "    parser.add_argument('-n', '--name', type=str, help='用户的名字')\n",
    "    parser.add_argument('-a', '--age', type=int, help='用户的年龄')\n",
    "    parser.add_argument('-v', '--verbose', action='store_true', help='是否输出详细信息')\n",
    "    \n",
    "    # 解析参数\n",
    "    args = parser.parse_args()\n",
    "    \n",
    "    # 使用参数\n",
    "    if args.verbose:\n",
    "        print(f\"详细信息: 用户名是 {args.name}, 年龄是 {args.age}\")\n",
    "    else:\n",
    "        print(f\"用户名: {args.name}, 年龄: {args.age}\")\n",
    "\n",
    "if __name__ == \"__main__\":\n",
    "    main()"
   ]
  },
  {
   "cell_type": "markdown",
   "metadata": {},
   "source": [
    "\n",
    "\n",
    "### 常用参数类型\n",
    "\n",
    "- `type`：指定参数的类型，如 `int`, `float`, `str` 等。\n",
    "- `help`：参数的帮助信息。\n",
    "- `default`：参数的默认值。\n",
    "- `required`：是否为必需参数。\n",
    "- `action`：指定参数的动作，如 `store_true` 表示布尔开关。\n",
    "\n",
    "### 运行示例\n",
    "\n",
    "假设脚本名为 `example.py`，可以通过以下方式运行并传递参数：\n",
    "\n"
   ]
  },
  {
   "cell_type": "code",
   "execution_count": null,
   "metadata": {
    "vscode": {
     "languageId": "shellscript"
    }
   },
   "outputs": [],
   "source": [
    "python example.py -n Alice -a 30 -v"
   ]
  },
  {
   "cell_type": "markdown",
   "metadata": {},
   "source": [
    "\n",
    "\n",
    "这将输出：\n",
    "\n"
   ]
  },
  {
   "cell_type": "code",
   "execution_count": null,
   "metadata": {
    "vscode": {
     "languageId": "shellscript"
    }
   },
   "outputs": [],
   "source": [
    "详细信息: 用户名是 Alice, 年龄是 30"
   ]
  },
  {
   "cell_type": "markdown",
   "metadata": {},
   "source": [
    "\n",
    "\n",
    "`argparse` 模块功能强大，适用于各种复杂的命令行参数解析需求。"
   ]
  }
 ],
 "metadata": {
  "kernelspec": {
   "display_name": "3.13.1",
   "language": "python",
   "name": "python3"
  },
  "language_info": {
   "codemirror_mode": {
    "name": "ipython",
    "version": 3
   },
   "file_extension": ".py",
   "mimetype": "text/x-python",
   "name": "python",
   "nbconvert_exporter": "python",
   "pygments_lexer": "ipython3",
   "version": "3.13.1"
  }
 },
 "nbformat": 4,
 "nbformat_minor": 2
}
