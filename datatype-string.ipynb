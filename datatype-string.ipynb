{
 "cells": [
  {
   "cell_type": "markdown",
   "metadata": {},
   "source": [
    "# 字符串"
   ]
  },
  {
   "cell_type": "markdown",
   "metadata": {},
   "source": [
    "定义字符串可以使用：\n",
    "\n",
    "- 单引号 `''`\n",
    "- 双引号 `\"\"`\n",
    "- 三重引号 `''' '''` 或者 `\"\"\" \"\"\"`\n",
    "\n",
    "当字符串中包含单引号，则字符串可以使用双引号来定义；当字符串中包含双引号，则字符串可以使用单引号来定义。而多行文本，则可以使用三重引号。"
   ]
  },
  {
   "cell_type": "code",
   "execution_count": 4,
   "metadata": {},
   "outputs": [
    {
     "name": "stdout",
     "output_type": "stream",
     "text": [
      "A B \n",
      "Hello\n",
      "    World\n",
      "\n"
     ]
    }
   ],
   "source": [
    "a = 'A'\n",
    "b = \"B\"\n",
    "c = '''\n",
    "Hello\n",
    "    World\n",
    "'''\n",
    "\n",
    "print(a, b, c)"
   ]
  },
  {
   "cell_type": "markdown",
   "metadata": {},
   "source": [
    "需要在字符串中插入变量的值时，可以使用 f-strings："
   ]
  },
  {
   "cell_type": "code",
   "execution_count": null,
   "metadata": {},
   "outputs": [],
   "source": []
  }
 ],
 "metadata": {
  "kernelspec": {
   "display_name": "3.13.1",
   "language": "python",
   "name": "python3"
  },
  "language_info": {
   "codemirror_mode": {
    "name": "ipython",
    "version": 3
   },
   "file_extension": ".py",
   "mimetype": "text/x-python",
   "name": "python",
   "nbconvert_exporter": "python",
   "pygments_lexer": "ipython3",
   "version": "3.13.1"
  }
 },
 "nbformat": 4,
 "nbformat_minor": 2
}
