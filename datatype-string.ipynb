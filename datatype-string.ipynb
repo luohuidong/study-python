{
 "cells": [
  {
   "cell_type": "markdown",
   "metadata": {},
   "source": [
    "# 字符串"
   ]
  },
  {
   "cell_type": "markdown",
   "metadata": {},
   "source": [
    "## 字符串基本使用\n",
    "\n",
    "定义字符串可以使用：\n",
    "\n",
    "- 单引号 `''`\n",
    "- 双引号 `\"\"`\n",
    "- 三重引号 `''' '''` 或者 `\"\"\" \"\"\"`\n",
    "\n",
    "当字符串中包含单引号，则字符串可以使用双引号来定义；当字符串中包含双引号，则字符串可以使用单引号来定义。而多行文本，则可以使用三重引号。"
   ]
  },
  {
   "cell_type": "code",
   "execution_count": 1,
   "metadata": {},
   "outputs": [
    {
     "name": "stdout",
     "output_type": "stream",
     "text": [
      "A B \n",
      "Hello\n",
      "    World\n",
      "\n"
     ]
    }
   ],
   "source": [
    "a = 'A'\n",
    "b = \"B\"\n",
    "c = '''\n",
    "Hello\n",
    "    World\n",
    "'''\n",
    "\n",
    "print(a, b, c)"
   ]
  },
  {
   "cell_type": "markdown",
   "metadata": {},
   "source": [
    "需要在字符串中插入变量的值时，可以使用 f-strings："
   ]
  },
  {
   "cell_type": "code",
   "execution_count": 2,
   "metadata": {},
   "outputs": [
    {
     "name": "stdout",
     "output_type": "stream",
     "text": [
      "x的值是123\n"
     ]
    }
   ],
   "source": [
    "x = 123\n",
    "print(f\"x的值是{x}\")"
   ]
  },
  {
   "cell_type": "markdown",
   "metadata": {},
   "source": [
    "## 字符串基本操作"
   ]
  },
  {
   "cell_type": "markdown",
   "metadata": {},
   "source": [
    "### 成员运算\n",
    "\n",
    "- `x in s`：字符串 s 是否包含 x 字符\n",
    "- `x not in s`：字符串 s 是否不包含 x 字符"
   ]
  },
  {
   "cell_type": "code",
   "execution_count": 3,
   "metadata": {},
   "outputs": [
    {
     "data": {
      "text/plain": [
       "False"
      ]
     },
     "execution_count": 3,
     "metadata": {},
     "output_type": "execute_result"
    }
   ],
   "source": [
    "\"x\" in \"abc\""
   ]
  },
  {
   "cell_type": "code",
   "execution_count": 4,
   "metadata": {},
   "outputs": [
    {
     "data": {
      "text/plain": [
       "True"
      ]
     },
     "execution_count": 4,
     "metadata": {},
     "output_type": "execute_result"
    }
   ],
   "source": [
    "\"x\" not in \"abc\""
   ]
  },
  {
   "cell_type": "markdown",
   "metadata": {},
   "source": [
    "### 连接运算"
   ]
  },
  {
   "cell_type": "markdown",
   "metadata": {},
   "source": [
    "`s + t` 左右两个字符串进行连接："
   ]
  },
  {
   "cell_type": "code",
   "execution_count": 5,
   "metadata": {},
   "outputs": [
    {
     "data": {
      "text/plain": [
       "'abcdef'"
      ]
     },
     "execution_count": 5,
     "metadata": {},
     "output_type": "execute_result"
    }
   ],
   "source": [
    "\"abc\" + \"def\""
   ]
  },
  {
   "cell_type": "markdown",
   "metadata": {},
   "source": [
    "`s * t` 把左侧的字符串重复 t 次："
   ]
  },
  {
   "cell_type": "code",
   "execution_count": 6,
   "metadata": {},
   "outputs": [
    {
     "data": {
      "text/plain": [
       "'abcabcabc'"
      ]
     },
     "execution_count": 6,
     "metadata": {},
     "output_type": "execute_result"
    }
   ],
   "source": [
    "\"abc\" * 3"
   ]
  },
  {
   "cell_type": "markdown",
   "metadata": {},
   "source": [
    "### 切片运算"
   ]
  },
  {
   "cell_type": "markdown",
   "metadata": {},
   "source": [
    "`s[i]` 获取 s 的第 i 项，起始为 0："
   ]
  },
  {
   "cell_type": "code",
   "execution_count": 8,
   "metadata": {},
   "outputs": [
    {
     "name": "stdout",
     "output_type": "stream",
     "text": [
      "a\n",
      "b\n",
      "f\n"
     ]
    }
   ],
   "source": [
    "s = \"abcdef\"\n",
    "print(s[0])\n",
    "print(s[1])\n",
    "print(s[-1])"
   ]
  },
  {
   "cell_type": "markdown",
   "metadata": {},
   "source": [
    "`s[i:j]` 获取 s 从 i 到 j 的切片："
   ]
  },
  {
   "cell_type": "code",
   "execution_count": 9,
   "metadata": {},
   "outputs": [
    {
     "name": "stdout",
     "output_type": "stream",
     "text": [
      "bc\n"
     ]
    }
   ],
   "source": [
    "s = \"abcdef\"\n",
    "print(s[1:3])"
   ]
  },
  {
   "cell_type": "markdown",
   "metadata": {},
   "source": [
    "`s[i:j:k]` 获取 s 从 i 到 j 步长为 k 的切片："
   ]
  },
  {
   "cell_type": "code",
   "execution_count": 17,
   "metadata": {},
   "outputs": [
    {
     "name": "stdout",
     "output_type": "stream",
     "text": [
      "036\n"
     ]
    }
   ],
   "source": [
    "s = \"0123456790\"\n",
    "print(s[0:9:3])"
   ]
  },
  {
   "cell_type": "markdown",
   "metadata": {},
   "source": [
    "## 字符串的常用方法"
   ]
  },
  {
   "cell_type": "markdown",
   "metadata": {},
   "source": [
    "### str.count\n",
    "\n",
    "`str.count(sub[, start[, end]])` 方法用于计算字符串中某个子字符串出现的次数。\n",
    "\n",
    "参数：\n",
    "- `sub`：要查找的子字符串。\n",
    "- `start`（可选）：开始查找的位置，默认为 0。\n",
    "- `end`（可选）：结束查找的位置，默认为字符串的长度。\n",
    "\n",
    "返回值：\n",
    "- 返回子字符串在字符串中出现的次数。"
   ]
  },
  {
   "cell_type": "code",
   "execution_count": 22,
   "metadata": {},
   "outputs": [
    {
     "name": "stdout",
     "output_type": "stream",
     "text": [
      "2\n",
      "2\n"
     ]
    }
   ],
   "source": [
    "text = \"hello world\"\n",
    "count = text.count(\"o\")\n",
    "print(count)\n",
    "\n",
    "count = text.count(\"l\", 3, 10)\n",
    "print(count) "
   ]
  },
  {
   "cell_type": "markdown",
   "metadata": {},
   "source": [
    "### str.isalnum\n",
    "\n",
    "`str.isalnum()` 方法用于判断字符串是否只包含字母和数字字符。如果字符串只包含字母和数字字符，并且至少有一个字符，则返回 `True`；否则返回 `False`。"
   ]
  },
  {
   "cell_type": "code",
   "execution_count": 24,
   "metadata": {},
   "outputs": [
    {
     "name": "stdout",
     "output_type": "stream",
     "text": [
      "True\n",
      "False\n",
      "False\n",
      "True\n"
     ]
    }
   ],
   "source": [
    "text1 = \"Hello123\"\n",
    "text2 = \"Hello 123\"\n",
    "text3 = \"\"\n",
    "\n",
    "print(text1.isalnum())\n",
    "print(text2.isalnum()) \n",
    "print(text3.isalnum())"
   ]
  },
  {
   "cell_type": "markdown",
   "metadata": {},
   "source": [
    "### str.isalpha\n",
    "\n",
    "`str.isalpha` 方法用于判断字符串是否只包含字母字符。如果字符串只包含字母字符，并且至少有一个字符，则返回 True；否则返回 False。"
   ]
  },
  {
   "cell_type": "code",
   "execution_count": 25,
   "metadata": {},
   "outputs": [
    {
     "name": "stdout",
     "output_type": "stream",
     "text": [
      "True\n",
      "False\n",
      "False\n"
     ]
    }
   ],
   "source": [
    "text1 = \"Hello\"\n",
    "text2 = \"Hello123\"\n",
    "text3 = \"\"\n",
    "\n",
    "print(text1.isalpha())\n",
    "print(text2.isalpha())\n",
    "print(text3.isalpha())"
   ]
  },
  {
   "cell_type": "markdown",
   "metadata": {},
   "source": [
    "### str.join\n",
    "\n",
    "`str.join(iterable)` 方法用于将可迭代对象中的元素连接成一个字符串，并在每个元素之间插入指定的分隔符。\n",
    "\n",
    "- 参数 `iterable` 是一个可迭代对象（如列表、元组、字符串等），其中的每个元素都将被连接成一个字符串。\n",
    "- 返回一个由可迭代对象中的元素连接而成的字符串，元素之间由指定的分隔符分隔。"
   ]
  },
  {
   "cell_type": "code",
   "execution_count": 26,
   "metadata": {},
   "outputs": [
    {
     "name": "stdout",
     "output_type": "stream",
     "text": [
      "apple, banana, cherry\n",
      "Hello\n"
     ]
    }
   ],
   "source": [
    "separator = \", \"\n",
    "items = [\"apple\", \"banana\", \"cherry\"]\n",
    "\n",
    "result = separator.join(items)\n",
    "print(result) \n",
    "\n",
    "result = \"\".join([\"H\", \"e\", \"l\", \"l\", \"o\"])\n",
    "print(result) "
   ]
  }
 ],
 "metadata": {
  "kernelspec": {
   "display_name": "3.13.1",
   "language": "python",
   "name": "python3"
  },
  "language_info": {
   "codemirror_mode": {
    "name": "ipython",
    "version": 3
   },
   "file_extension": ".py",
   "mimetype": "text/x-python",
   "name": "python",
   "nbconvert_exporter": "python",
   "pygments_lexer": "ipython3",
   "version": "3.13.1"
  }
 },
 "nbformat": 4,
 "nbformat_minor": 2
}
