{
 "cells": [
  {
   "cell_type": "markdown",
   "metadata": {},
   "source": [
    "## 偏函数\n",
    "\n",
    "偏函数（Partial Function）是指将一个多参数函数的一部分参数固定，从而得到一个新的函数。这个新的函数只需要剩下的参数作为输入。偏函数在函数式编程中非常常见，可以用来简化函数调用和提高代码的可读性。\n",
    "\n",
    "在Python中，可以使用`functools`模块中的`partial`函数来创建偏函数。以下是一个示例："
   ]
  },
  {
   "cell_type": "code",
   "execution_count": 2,
   "metadata": {},
   "outputs": [
    {
     "name": "stdout",
     "output_type": "stream",
     "text": [
      "10\n"
     ]
    }
   ],
   "source": [
    "from functools import partial\n",
    "\n",
    "# 定义一个普通的函数\n",
    "def multiply(x, y):\n",
    "    return x * y\n",
    "\n",
    "# 创建一个偏函数，将x固定为2\n",
    "double = partial(multiply, 2)\n",
    "\n",
    "# 调用偏函数，只需要提供剩下的参数\n",
    "result = double(5)  # 相当于调用 multiply(2, 5)\n",
    "print(result)  # 输出 10"
   ]
  },
  {
   "cell_type": "markdown",
   "metadata": {},
   "source": [
    "\n",
    "\n",
    "在这个示例中，`partial`函数将`multiply`函数的第一个参数`x`固定为`2`，从而创建了一个新的函数`double`，这个新函数只需要一个参数`y`。"
   ]
  }
 ],
 "metadata": {
  "kernelspec": {
   "display_name": "3.13.1",
   "language": "python",
   "name": "python3"
  },
  "language_info": {
   "codemirror_mode": {
    "name": "ipython",
    "version": 3
   },
   "file_extension": ".py",
   "mimetype": "text/x-python",
   "name": "python",
   "nbconvert_exporter": "python",
   "pygments_lexer": "ipython3",
   "version": "3.13.1"
  }
 },
 "nbformat": 4,
 "nbformat_minor": 2
}
