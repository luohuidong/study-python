{
 "cells": [
  {
   "cell_type": "markdown",
   "metadata": {},
   "source": [
    "# 装饰器\n",
    "\n",
    "装饰器很好用，而且本身并不复杂。\n",
    "\n",
    "装饰器是一种用于修改函数或方法行为的高阶函数，它们允许你在不修改函数本身代码的情况下，添加额外的功能。装饰器通常用于日志记录、访问控制、性能测量等场景。\n",
    "\n",
    "所谓的高阶函数满足以下至少一个条件：\n",
    "\n",
    "1. 接受一个或多个函数作为参数。\n",
    "2. 返回一个函数作为结果。\n",
    "\n",
    "以下为装饰器的简单例子："
   ]
  },
  {
   "cell_type": "code",
   "execution_count": 17,
   "metadata": {},
   "outputs": [
    {
     "name": "stdout",
     "output_type": "stream",
     "text": [
      "Hello!\n",
      "Execution time:  0.056 ms\n"
     ]
    }
   ],
   "source": [
    "import time\n",
    "\n",
    "def my_decorator(func):\n",
    "    def wrapper():\n",
    "        start = time.time()\n",
    "        func()\n",
    "        stop = time.time()\n",
    "        print(f\"Execution time:  {(stop-start) * 1000:.3f} ms\")\n",
    "    return wrapper\n",
    "\n",
    "@my_decorator\n",
    "def say_hello():\n",
    "    print(\"Hello!\")\n",
    "\n",
    "say_hello()"
   ]
  },
  {
   "cell_type": "markdown",
   "metadata": {},
   "source": [
    "上面装饰器的使用等价于下面的代码："
   ]
  },
  {
   "cell_type": "code",
   "execution_count": 1,
   "metadata": {},
   "outputs": [
    {
     "name": "stdout",
     "output_type": "stream",
     "text": [
      "Hello!\n",
      "Execution time:  0.080 ms\n",
      "say_hello\n"
     ]
    }
   ],
   "source": [
    "import time\n",
    "\n",
    "def my_decorator(func):\n",
    "    def wrapper():\n",
    "        start = time.time()\n",
    "        func()\n",
    "        stop = time.time()\n",
    "        print(f\"Execution time:  {(stop-start) * 1000:.3f} ms\")\n",
    "    return wrapper\n",
    "\n",
    "def say_hello():\n",
    "    print(\"Hello!\")\n",
    "\n",
    "fn = my_decorator(say_hello)\n",
    "fn()\n",
    "print(say_hello.__name__)"
   ]
  },
  {
   "cell_type": "markdown",
   "metadata": {},
   "source": [
    "## 使用 wraps() 装饰器保持函数元数据\n",
    "\n",
    "从前面的例子可以看出，`say_hello` 函数经 `my_decorator` 装饰器包裹后，实际上调用的是 `wrapper` 函数。因此如果用户获取 `say_hello` 的名字的时候，会发现得到的名字是 `wrapper`。除了这个问题外，其它函数的额外属性也会出现这个问题，例如文档属性等等。\n",
    "\n",
    "为了解决上述问题，需要使用 `@wraps` 装饰函数："
   ]
  },
  {
   "cell_type": "code",
   "execution_count": 2,
   "metadata": {},
   "outputs": [
    {
     "name": "stdout",
     "output_type": "stream",
     "text": [
      "say_hello\n"
     ]
    }
   ],
   "source": [
    "import time\n",
    "from functools import wraps\n",
    "\n",
    "def my_decorator(func):\n",
    "    @wraps(func)\n",
    "    def wrapper():\n",
    "        start = time.time()\n",
    "        func()\n",
    "        stop = time.time()\n",
    "        print(f\"Execution time:  {(stop-start) * 1000:.3f} ms\")\n",
    "    return wrapper\n",
    "\n",
    "@my_decorator\n",
    "def say_hello():\n",
    "    print(\"Hello!\")\n",
    "\n",
    "print(say_hello.__name__)"
   ]
  },
  {
   "cell_type": "markdown",
   "metadata": {},
   "source": [
    "## 原函数带参数\n",
    "\n",
    "如果原函数有参数，则装饰器的 `wrapper` 函数需要使用任意参数列表："
   ]
  },
  {
   "cell_type": "code",
   "execution_count": null,
   "metadata": {},
   "outputs": [
    {
     "name": "stdout",
     "output_type": "stream",
     "text": [
      "Hello John!\n",
      "Execution time:  0.084 ms\n"
     ]
    }
   ],
   "source": [
    "import time\n",
    "from functools import wraps\n",
    "\n",
    "def my_decorator(func):\n",
    "    @wraps(func)\n",
    "    def wrapper(*args, **kwargs):\n",
    "        start = time.time()\n",
    "        func(*args, **kwargs)\n",
    "        stop = time.time()\n",
    "        print(f\"Execution time:  {(stop-start) * 1000:.3f} ms\")\n",
    "    return wrapper\n",
    "\n",
    "@my_decorator\n",
    "def say_hello(name):\n",
    "    print(f\"Hello {name}!\")\n",
    "\n",
    "say_hello(\"John\")"
   ]
  },
  {
   "cell_type": "markdown",
   "metadata": {},
   "source": [
    "## 带参数的装饰器\n",
    "\n",
    "带参数的装饰器允许我们在装饰器中传递参数，从而使装饰器更加灵活。下面是一个带参数的装饰器的示例："
   ]
  },
  {
   "cell_type": "code",
   "execution_count": 4,
   "metadata": {},
   "outputs": [
    {
     "name": "stdout",
     "output_type": "stream",
     "text": [
      "Hello John!\n",
      "Execution time:  0.080 ms\n",
      "Decorator arguments: arg1_value, arg2_value\n"
     ]
    }
   ],
   "source": [
    "import time\n",
    "from functools import wraps\n",
    "\n",
    "def my_decorator_with_args(arg1, arg2):\n",
    "    def decorator(func):\n",
    "        @wraps(func)\n",
    "        def wrapper(*args, **kwargs):\n",
    "            start = time.time()\n",
    "            func(*args, **kwargs)\n",
    "            stop = time.time()\n",
    "            print(f\"Execution time:  {(stop-start) * 1000:.3f} ms\")\n",
    "            print(f\"Decorator arguments: {arg1}, {arg2}\")\n",
    "        return wrapper\n",
    "    return decorator\n",
    "\n",
    "@my_decorator_with_args(\"arg1_value\", \"arg2_value\")\n",
    "def say_hello(name):\n",
    "    print(f\"Hello {name}!\")\n",
    "\n",
    "say_hello(\"John\")"
   ]
  },
  {
   "cell_type": "markdown",
   "metadata": {},
   "source": [
    "为了增加对参数的支持，装饰器再原本的两层嵌套函数上又加了一层，上面例子中装饰器应用代码等价于："
   ]
  },
  {
   "cell_type": "code",
   "execution_count": 3,
   "metadata": {},
   "outputs": [
    {
     "name": "stdout",
     "output_type": "stream",
     "text": [
      "Hello John!\n",
      "Execution time:  0.081 ms\n",
      "Decorator arguments: arg1_value, arg2_value\n"
     ]
    }
   ],
   "source": [
    "import time\n",
    "from functools import wraps\n",
    "\n",
    "def my_decorator_with_args(arg1, arg2):\n",
    "    def decorator(func):\n",
    "        @wraps(func)\n",
    "        def wrapper(*args, **kwargs):\n",
    "            start = time.time()\n",
    "            func(*args, **kwargs)\n",
    "            stop = time.time()\n",
    "            print(f\"Execution time:  {(stop-start) * 1000:.3f} ms\")\n",
    "            print(f\"Decorator arguments: {arg1}, {arg2}\")\n",
    "        return wrapper\n",
    "    return decorator\n",
    "\n",
    "def say_hello(name):\n",
    "    print(f\"Hello {name}!\")\n",
    "\n",
    "_decorator = my_decorator_with_args(\"arg1_value\", \"arg2_value\")\n",
    "fn = _decorator(say_hello)\n",
    "fn(\"John\")"
   ]
  },
  {
   "cell_type": "markdown",
   "metadata": {},
   "source": [
    "### 实现可选参数装饰器"
   ]
  },
  {
   "cell_type": "markdown",
   "metadata": {},
   "source": [
    "从前面的例子可以参数，接受参数与不接受参数的装饰器代码有很大的区别，因为前者会比后者多一层函数嵌套。当实现了一个接受参数的装饰器后，即便所有参数都是有默认值的可选参数，也必须在使用装饰器时加上括号，但这无疑增加了装饰器的使用成本："
   ]
  },
  {
   "cell_type": "code",
   "execution_count": 6,
   "metadata": {},
   "outputs": [
    {
     "name": "stdout",
     "output_type": "stream",
     "text": [
      "Hello John!\n",
      "Execution time:  0.068 ms\n",
      "Decorator arguments: foo, bar\n"
     ]
    }
   ],
   "source": [
    "import time\n",
    "from functools import wraps\n",
    "\n",
    "def my_decorator_with_args(arg1='foo', arg2=\"bar\"):\n",
    "    def decorator(func):\n",
    "        @wraps(func)\n",
    "        def wrapper(*args, **kwargs):\n",
    "            start = time.time()\n",
    "            func(*args, **kwargs)\n",
    "            stop = time.time()\n",
    "            print(f\"Execution time:  {(stop-start) * 1000:.3f} ms\")\n",
    "            print(f\"Decorator arguments: {arg1}, {arg2}\")\n",
    "        return wrapper\n",
    "    return decorator\n",
    "\n",
    "@my_decorator_with_args()\n",
    "def say_hello(name):\n",
    "    print(f\"Hello {name}!\")\n",
    "\n",
    "say_hello(\"John\")"
   ]
  },
  {
   "cell_type": "markdown",
   "metadata": {},
   "source": [
    "我们可以对装饰器进行改造，让在使用参数默认值的时候不需要添加括号："
   ]
  },
  {
   "cell_type": "code",
   "execution_count": 11,
   "metadata": {},
   "outputs": [
    {
     "name": "stdout",
     "output_type": "stream",
     "text": [
      "Hello John!\n",
      "Execution time:  0.634 ms\n",
      "Decorator arguments: foo, bar\n",
      "Hello Ryan!\n",
      "Execution time:  0.008 ms\n",
      "Decorator arguments: foo1, foo2\n"
     ]
    }
   ],
   "source": [
    "import time\n",
    "from functools import wraps\n",
    "\n",
    "def my_decorator_with_args(func=None, *, arg1='foo', arg2=\"bar\"):\n",
    "    def decorator(func):\n",
    "        @wraps(func)\n",
    "        def wrapper(*args, **kwargs):\n",
    "            start = time.time()\n",
    "            func(*args, **kwargs)\n",
    "            stop = time.time()\n",
    "            print(f\"Execution time:  {(stop-start) * 1000:.3f} ms\")\n",
    "            print(f\"Decorator arguments: {arg1}, {arg2}\")\n",
    "        return wrapper\n",
    "\n",
    "    if func is None:\n",
    "        return decorator\n",
    "    else:\n",
    "        return decorator(func)\n",
    "\n",
    "@my_decorator_with_args\n",
    "def say_hello(name):\n",
    "    print(f\"Hello {name}!\")\n",
    "\n",
    "say_hello(\"John\")\n",
    "\n",
    "@my_decorator_with_args(arg1='foo1', arg2='foo2')\n",
    "def say_hello_1(name):\n",
    "    print(f\"Hello {name}!\")\n",
    "\n",
    "say_hello_1(\"Ryan\")"
   ]
  }
 ],
 "metadata": {
  "kernelspec": {
   "display_name": "3.13.1",
   "language": "python",
   "name": "python3"
  },
  "language_info": {
   "codemirror_mode": {
    "name": "ipython",
    "version": 3
   },
   "file_extension": ".py",
   "mimetype": "text/x-python",
   "name": "python",
   "nbconvert_exporter": "python",
   "pygments_lexer": "ipython3",
   "version": "3.13.1"
  }
 },
 "nbformat": 4,
 "nbformat_minor": 2
}
