{
 "cells": [
  {
   "cell_type": "markdown",
   "metadata": {},
   "source": [
    "# 函数参数"
   ]
  },
  {
   "cell_type": "markdown",
   "metadata": {},
   "source": [
    "## 参数默认值\n",
    "\n",
    "定义函数的时候，可以为一个或多个参数定义默认值："
   ]
  },
  {
   "cell_type": "code",
   "execution_count": 2,
   "metadata": {},
   "outputs": [
    {
     "name": "stdout",
     "output_type": "stream",
     "text": [
      "4\n",
      "5\n"
     ]
    }
   ],
   "source": [
    "def sum(a, b=4):\n",
    "    return a+b\n",
    "\n",
    "print(sum(1, 3))\n",
    "print(sum(1))"
   ]
  },
  {
   "cell_type": "markdown",
   "metadata": {},
   "source": [
    "参数的默认值仅执行一次，因此需要注意参数默认值为可变对象的场景："
   ]
  },
  {
   "cell_type": "code",
   "execution_count": 3,
   "metadata": {},
   "outputs": [
    {
     "name": "stdout",
     "output_type": "stream",
     "text": [
      "[1]\n",
      "[1, 2]\n",
      "[1, 2, 3]\n"
     ]
    }
   ],
   "source": [
    "def f(a, L=[]):\n",
    "    L.append(a)\n",
    "    return L\n",
    "\n",
    "print(f(1))\n",
    "print(f(2))\n",
    "print(f(3))"
   ]
  },
  {
   "cell_type": "markdown",
   "metadata": {},
   "source": [
    "## 位置参数与关键字参数\n",
    "\n",
    "函数在调用时，可以使用位置参数，也可以使用关键字参数。"
   ]
  },
  {
   "cell_type": "markdown",
   "metadata": {},
   "source": [
    "按照函数定义参数的顺序来传递的参数即位置参数："
   ]
  },
  {
   "cell_type": "code",
   "execution_count": null,
   "metadata": {},
   "outputs": [
    {
     "name": "stdout",
     "output_type": "stream",
     "text": [
      "3\n"
     ]
    }
   ],
   "source": [
    "def sum(a, b):\n",
    "    return a+b\n",
    "\n",
    "print(sum(1, 2))"
   ]
  },
  {
   "cell_type": "markdown",
   "metadata": {},
   "source": [
    "位置参数还可以使用另外一种形式进行传递，可以向函数传递 `*` 开头的可迭代对象，可迭代对象中的所有元素将按顺序传递给函数："
   ]
  },
  {
   "cell_type": "code",
   "execution_count": 10,
   "metadata": {},
   "outputs": [
    {
     "name": "stdout",
     "output_type": "stream",
     "text": [
      "3\n"
     ]
    }
   ],
   "source": [
    "def sum (a, b):\n",
    "    return a+b\n",
    "\n",
    "print(sum(*[1, 2]))"
   ]
  },
  {
   "cell_type": "markdown",
   "metadata": {},
   "source": [
    "关键字参数是指在函数调用时，以标识符开头（如：`name=`）的参数。使用关键字参数调用有较多参数的函数时，可以大大提高了代码的可读性。需要注意的是，使用关键字参数必须在位置参数之后："
   ]
  },
  {
   "cell_type": "code",
   "execution_count": null,
   "metadata": {},
   "outputs": [
    {
     "name": "stdout",
     "output_type": "stream",
     "text": [
      "Hello, my name is Alice. I am 25 years old and I live in Los Angeles.\n",
      "Hello, my name is Bob. I am 30 years old and I live in Chicago.\n",
      "Hello, my name is Charlie. I am 30 years old and I live in New York.\n"
     ]
    }
   ],
   "source": [
    "def greet(name, age=30, city=\"New York\"):\n",
    "    print(f\"Hello, my name is {name}. I am {age} years old and I live in {city}.\")\n",
    "\n",
    "# 使用位置参数和关键字参数调用函数\n",
    "greet(\"Alice\", age=25, city=\"Los Angeles\")\n",
    "\n",
    "# 只使用关键字参数调用函数\n",
    "greet(name=\"Bob\", city=\"Chicago\")\n",
    "\n",
    "# 使用默认值\n",
    "greet(\"Charlie\")"
   ]
  },
  {
   "cell_type": "markdown",
   "metadata": {},
   "source": [
    "关键字参数可以使用 `**` 开头的字典值进行传递："
   ]
  },
  {
   "cell_type": "code",
   "execution_count": 13,
   "metadata": {},
   "outputs": [
    {
     "name": "stdout",
     "output_type": "stream",
     "text": [
      "Hello, my name is David. I am 35 years old and I live in San Francisco.\n"
     ]
    }
   ],
   "source": [
    "def greet(name, age=30, city=\"New York\"):\n",
    "    print(f\"Hello, my name is {name}. I am {age} years old and I live in {city}.\")\n",
    "\n",
    "greet('David', **{\n",
    "    \"age\": 35,\n",
    "    \"city\": \"San Francisco\"\n",
    "})"
   ]
  },
  {
   "cell_type": "markdown",
   "metadata": {},
   "source": [
    "## 任意参数列表\n",
    "\n",
    "函数在定义参数的时候，可以使用 `*name` 来接受未定义的位置参数，使用 `**name` 来接受未定义的关键字参数，但需要注意的是 `**name` 必须出现在 `*name` 之后："
   ]
  },
  {
   "cell_type": "code",
   "execution_count": 27,
   "metadata": {},
   "outputs": [
    {
     "name": "stdout",
     "output_type": "stream",
     "text": [
      "Hello, my name is Alice.\n",
      "I live in Los Angeles.\n",
      "Python\n",
      "JavaScript\n",
      "age: 25\n",
      "job: Programmer\n"
     ]
    }
   ],
   "source": [
    "def hello(name, *args, city, **kwargs):\n",
    "    print(f\"Hello, my name is {name}.\")\n",
    "    print(f\"I live in {city}.\")\n",
    "    for arg in args:\n",
    "        print(arg)\n",
    "    for key, value in kwargs.items():\n",
    "        print(f\"{key}: {value}\")\n",
    "\n",
    "hello(\"Alice\", \"Python\", \"JavaScript\", city=\"Los Angeles\", age=25, job=\"Programmer\")"
   ]
  },
  {
   "cell_type": "markdown",
   "metadata": {},
   "source": [
    "## 解包参数列表\n",
    "\n",
    "在Python中，解包参数列表（unpacking argument lists）是一种将列表或字典中的元素传递给函数的简便方法。主要有两种解包方式：使用 * 和 **。"
   ]
  },
  {
   "cell_type": "markdown",
   "metadata": {},
   "source": [
    "当函数需要多个参数时，可以使用 * 将列表或元组中的元素解包并传递给函数："
   ]
  },
  {
   "cell_type": "code",
   "execution_count": 28,
   "metadata": {},
   "outputs": [
    {
     "name": "stdout",
     "output_type": "stream",
     "text": [
      "1 2 3\n"
     ]
    }
   ],
   "source": [
    "def func(a, b, c):\n",
    "    print(a, b, c)\n",
    "\n",
    "args = [1, 2, 3]\n",
    "func(*args)  # 等同于 func(1, 2, 3)"
   ]
  },
  {
   "cell_type": "markdown",
   "metadata": {},
   "source": [
    "当函数需要关键字参数时，可以使用 ** 将字典中的键值对解包并传递给函数："
   ]
  },
  {
   "cell_type": "code",
   "execution_count": 29,
   "metadata": {},
   "outputs": [
    {
     "name": "stdout",
     "output_type": "stream",
     "text": [
      "1 2 3\n"
     ]
    }
   ],
   "source": [
    "def func(a, b, c):\n",
    "    print(a, b, c)\n",
    "\n",
    "kwargs = {'a': 1, 'b': 2, 'c': 3}\n",
    "func(**kwargs)  # 等同于 func(a=1, b=2, c=3)"
   ]
  }
 ],
 "metadata": {
  "kernelspec": {
   "display_name": "3.13.1",
   "language": "python",
   "name": "python3"
  },
  "language_info": {
   "codemirror_mode": {
    "name": "ipython",
    "version": 3
   },
   "file_extension": ".py",
   "mimetype": "text/x-python",
   "name": "python",
   "nbconvert_exporter": "python",
   "pygments_lexer": "ipython3",
   "version": "3.13.1"
  }
 },
 "nbformat": 4,
 "nbformat_minor": 2
}
