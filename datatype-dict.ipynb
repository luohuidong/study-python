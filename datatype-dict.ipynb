{
 "cells": [
  {
   "cell_type": "markdown",
   "metadata": {},
   "source": [
    "# 映射与字典\n",
    "\n",
    "- 映射是可变类型，它只有一种数据类型，字典。\n",
    "- 字典里一个元素由键和值两部分组成。\n",
    "- 键不能重复，因此无法哈希的类型（如列表、字典等）不可作为键来使用。"
   ]
  },
  {
   "cell_type": "code",
   "execution_count": 3,
   "metadata": {},
   "outputs": [
    {
     "name": "stdout",
     "output_type": "stream",
     "text": [
      "{'Michael': 95, 'Bob': 75, 'Tracy': 85}\n",
      "{'Michael': 95, 'Bob': 75, 'Tracy': 85}\n",
      "{2: 4, 4: 16, 6: 36}\n"
     ]
    }
   ],
   "source": [
    "# 定义字典\n",
    "\n",
    "# 使用{}定义字典\n",
    "d = {'Michael': 95, 'Bob': 75, 'Tracy': 85}\n",
    "print(d)\n",
    "\n",
    "# 使用dict()定义字典\n",
    "d = dict(Michael=95, Bob=75, Tracy=85)\n",
    "print(d)\n",
    "\n",
    "# 使用字典推导式定义字典\n",
    "d = {x: x**2 for x in (2, 4, 6)}\n",
    "print(d)"
   ]
  },
  {
   "cell_type": "code",
   "execution_count": 5,
   "metadata": {},
   "outputs": [
    {
     "name": "stdout",
     "output_type": "stream",
     "text": [
      "{'Michael': 95, 'Bob': 75, 'Tracy': 85}\n",
      "{'Michael': 95, 'Tracy': 85}\n"
     ]
    }
   ],
   "source": [
    "# 字典的删除\n",
    "\n",
    "# 删除字典中的元素\n",
    "d = {'Michael': 95, 'Bob': 75, 'Tracy': 85}\n",
    "print(d)\n",
    "del d['Bob']\n",
    "print(d)\n",
    "\n",
    "# 删除字典\n",
    "d = {'Michael': 95, 'Bob': 75, 'Tracy': 85}\n",
    "del d\n",
    "#print(d)  # NameError: name 'd' is not defined\n"
   ]
  },
  {
   "cell_type": "code",
   "execution_count": 3,
   "metadata": {},
   "outputs": [
    {
     "name": "stdout",
     "output_type": "stream",
     "text": [
      "dict_items([('Michael', 95), ('Bob', 75), ('Tracy', 85)])\n",
      "dict_keys(['Michael', 'Bob', 'Tracy'])\n",
      "dict_values([95, 75, 85])\n"
     ]
    }
   ],
   "source": [
    "# 获取字典中所有元素\n",
    "d = {'Michael': 95, 'Bob': 75, 'Tracy': 85}\n",
    "print(d.items())\n",
    "\n",
    "# 获取字典中所有键\n",
    "print(d.keys())\n",
    "\n",
    "# 获取字典中所有值\n",
    "print(d.values())"
   ]
  },
  {
   "cell_type": "code",
   "execution_count": 5,
   "metadata": {},
   "outputs": [
    {
     "name": "stdout",
     "output_type": "stream",
     "text": [
      "95\n",
      "95\n"
     ]
    }
   ],
   "source": [
    "# 访问字典中的元素\n",
    "d = {'Michael': 95, 'Bob': 75, 'Tracy': 85}\n",
    "print(d['Michael'])\n",
    "print(d.get('Michael'))"
   ]
  },
  {
   "cell_type": "code",
   "execution_count": 11,
   "metadata": {},
   "outputs": [
    {
     "name": "stdout",
     "output_type": "stream",
     "text": [
      "Michael 95\n",
      "Bob 75\n",
      "Tracy 85\n"
     ]
    }
   ],
   "source": [
    "# 遍历字典所有元素\n",
    "d = {'Michael': 95, 'Bob': 75, 'Tracy': 85}\n",
    "for key, value in d.items():\n",
    "    print(key, value)"
   ]
  },
  {
   "cell_type": "code",
   "execution_count": 12,
   "metadata": {},
   "outputs": [
    {
     "name": "stdout",
     "output_type": "stream",
     "text": [
      "Michael\n",
      "Bob\n",
      "Tracy\n"
     ]
    }
   ],
   "source": [
    "# 遍历字典所有键\n",
    "d = {'Michael': 95, 'Bob': 75, 'Tracy': 85}\n",
    "for key in d:\n",
    "    print(key)"
   ]
  },
  {
   "cell_type": "code",
   "execution_count": 13,
   "metadata": {},
   "outputs": [
    {
     "name": "stdout",
     "output_type": "stream",
     "text": [
      "95\n",
      "75\n",
      "85\n"
     ]
    }
   ],
   "source": [
    "# 遍历字典所有值\n",
    "d = {'Michael': 95, 'Bob': 75, 'Tracy': 85}\n",
    "for value in d.values():\n",
    "    print(value)"
   ]
  },
  {
   "cell_type": "code",
   "execution_count": 15,
   "metadata": {},
   "outputs": [
    {
     "name": "stdout",
     "output_type": "stream",
     "text": [
      "{'Michael': 100, 'Bob': 75, 'Tracy': 85}\n",
      "{'Michael': 100, 'Bob': 75, 'Tracy': 85, 'Alice': 90}\n"
     ]
    }
   ],
   "source": [
    "d = {'Michael': 95, 'Bob': 75, 'Tracy': 85}\n",
    "\n",
    "# 修改字典中的值\n",
    "d['Michael'] = 100\n",
    "print(d)\n",
    "\n",
    "# 如果键不存在，会新增一个键值对\n",
    "d['Alice'] = 90\n",
    "print(d)"
   ]
  }
 ],
 "metadata": {
  "kernelspec": {
   "display_name": "3.13.1",
   "language": "python",
   "name": "python3"
  },
  "language_info": {
   "codemirror_mode": {
    "name": "ipython",
    "version": 3
   },
   "file_extension": ".py",
   "mimetype": "text/x-python",
   "name": "python",
   "nbconvert_exporter": "python",
   "pygments_lexer": "ipython3",
   "version": "3.13.1"
  }
 },
 "nbformat": 4,
 "nbformat_minor": 2
}
