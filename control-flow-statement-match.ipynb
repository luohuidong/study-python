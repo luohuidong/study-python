{
 "cells": [
  {
   "cell_type": "markdown",
   "metadata": {},
   "source": [
    "# match"
   ]
  },
  {
   "cell_type": "markdown",
   "metadata": {},
   "source": [
    "`match` 语句是 Python 3.10 引入的一种新的控制流语句，用于结构化模式匹配。它允许你根据对象的结构和内容来执行不同的代码块。以下是对 `match` 语句的详细介绍，包括各种模式和使用示例。\n",
    "\n",
    "### 基本语法\n",
    "\n",
    "```py\n",
    "match subject:\n",
    "    case pattern1:\n",
    "        # code block for pattern1\n",
    "    case pattern2:\n",
    "        # code block for pattern2\n",
    "    case _:\n",
    "        # default code block if no patterns match\n",
    "```"
   ]
  },
  {
   "cell_type": "markdown",
   "metadata": {},
   "source": [
    "\n",
    "\n",
    "### 模式类型\n",
    "\n",
    "1. **字面值模式**：匹配具体的值。\n",
    "\n"
   ]
  },
  {
   "cell_type": "code",
   "execution_count": 1,
   "metadata": {},
   "outputs": [
    {
     "name": "stdout",
     "output_type": "stream",
     "text": [
      "Matched 1\n",
      "Matched 'hello'\n",
      "No match\n"
     ]
    }
   ],
   "source": [
    "def match_literal(value):\n",
    "    match value:\n",
    "        case 1:\n",
    "            return \"Matched 1\"\n",
    "        case \"hello\":\n",
    "            return \"Matched 'hello'\"\n",
    "        case True:\n",
    "            return \"Matched True\"\n",
    "        case _:\n",
    "            return \"No match\"\n",
    "\n",
    "print(match_literal(1))  # 输出: Matched 1\n",
    "print(match_literal(\"hello\"))  # 输出: Matched 'hello'\n",
    "print(match_literal(False))  # 输出: No match"
   ]
  },
  {
   "cell_type": "markdown",
   "metadata": {},
   "source": [
    "\n",
    "\n",
    "2. **名称绑定模式**：将匹配的值绑定到一个变量。\n",
    "\n"
   ]
  },
  {
   "cell_type": "code",
   "execution_count": 2,
   "metadata": {},
   "outputs": [
    {
     "name": "stdout",
     "output_type": "stream",
     "text": [
      "Matched and bound to x: 42\n"
     ]
    }
   ],
   "source": [
    "def match_binding(value):\n",
    "    match value:\n",
    "        case x:\n",
    "            return f\"Matched and bound to x: {x}\"\n",
    "\n",
    "print(match_binding(42))  # 输出: Matched and bound to x: 42"
   ]
  },
  {
   "cell_type": "markdown",
   "metadata": {},
   "source": [
    "\n",
    "\n",
    "3. **通配符模式**：使用 `_` 表示匹配任何值。\n",
    "\n"
   ]
  },
  {
   "cell_type": "code",
   "execution_count": null,
   "metadata": {},
   "outputs": [],
   "source": [
    "def match_wildcard(value):\n",
    "    match value:\n",
    "        case _:\n",
    "            return \"Matched anything\"\n",
    "\n",
    "print(match_wildcard(\"anything\"))  # 输出: Matched anything"
   ]
  },
  {
   "cell_type": "markdown",
   "metadata": {},
   "source": [
    "\n",
    "\n",
    "4. **序列模式**：匹配列表或元组等序列。\n",
    "\n"
   ]
  },
  {
   "cell_type": "code",
   "execution_count": null,
   "metadata": {},
   "outputs": [],
   "source": [
    "def match_sequence(value):\n",
    "    match value:\n",
    "        case [a, b]:\n",
    "            return f\"Matched a list with two elements: {a}, {b}\"\n",
    "        case (a, b, c):\n",
    "            return f\"Matched a tuple with three elements: {a}, {b}, {c}\"\n",
    "        case _:\n",
    "            return \"No match\"\n",
    "\n",
    "print(match_sequence([1, 2]))  # 输出: Matched a list with two elements: 1, 2\n",
    "print(match_sequence((3, 4, 5)))  # 输出: Matched a tuple with three elements: 3, 4, 5"
   ]
  },
  {
   "cell_type": "markdown",
   "metadata": {},
   "source": [
    "\n",
    "\n",
    "5. **映射模式**：匹配字典等映射类型。\n",
    "\n"
   ]
  },
  {
   "cell_type": "code",
   "execution_count": null,
   "metadata": {},
   "outputs": [],
   "source": [
    "def match_mapping(value):\n",
    "    match value:\n",
    "        case {\"key\": v}:\n",
    "            return f\"Matched a dictionary with key 'key' and value: {v}\"\n",
    "        case _:\n",
    "            return \"No match\"\n",
    "\n",
    "print(match_mapping({\"key\": \"value\"}))  # 输出: Matched a dictionary with key 'key' and value: value"
   ]
  },
  {
   "cell_type": "markdown",
   "metadata": {},
   "source": [
    "\n",
    "\n",
    "6. **类模式**：匹配类实例及其属性。\n",
    "\n"
   ]
  },
  {
   "cell_type": "code",
   "execution_count": null,
   "metadata": {},
   "outputs": [],
   "source": [
    "class MyClass:\n",
    "    def __init__(self, attr1, attr2):\n",
    "        self.attr1 = attr1\n",
    "        self.attr2 = attr2\n",
    "\n",
    "def match_class(value):\n",
    "    match value:\n",
    "        case MyClass(attr1=a, attr2=b):\n",
    "            return f\"Matched MyClass instance with attr1: {a}, attr2: {b}\"\n",
    "        case _:\n",
    "            return \"No match\"\n",
    "\n",
    "obj = MyClass(10, 20)\n",
    "print(match_class(obj))  # 输出: Matched MyClass instance with attr1: 10, attr2: 20"
   ]
  },
  {
   "cell_type": "markdown",
   "metadata": {},
   "source": [
    "\n",
    "\n",
    "7. **守卫模式**：在模式匹配的基础上增加条件判断。\n",
    "\n"
   ]
  },
  {
   "cell_type": "code",
   "execution_count": null,
   "metadata": {},
   "outputs": [],
   "source": [
    "def match_guard(value):\n",
    "    match value:\n",
    "        case x if x > 10:\n",
    "            return f\"Matched a value greater than 10: {x}\"\n",
    "        case _:\n",
    "            return \"No match\"\n",
    "\n",
    "print(match_guard(15))  # 输出: Matched a value greater than 10: 15\n",
    "print(match_guard(5))   # 输出: No match"
   ]
  },
  {
   "cell_type": "markdown",
   "metadata": {},
   "source": [
    "\n",
    "\n",
    "### 综合示例\n",
    "\n"
   ]
  },
  {
   "cell_type": "code",
   "execution_count": null,
   "metadata": {},
   "outputs": [],
   "source": [
    "def process_data(data):\n",
    "    match data:\n",
    "        case 1:\n",
    "            return \"Matched 1\"\n",
    "        case \"hello\":\n",
    "            return \"Matched 'hello'\"\n",
    "        case [a, b]:\n",
    "            return f\"Matched a list with two elements: {a}, {b}\"\n",
    "        case {\"key\": v}:\n",
    "            return f\"Matched a dictionary with key 'key' and value: {v}\"\n",
    "        case MyClass(attr1=a, attr2=b):\n",
    "            return f\"Matched MyClass instance with attr1: {a}, attr2: {b}\"\n",
    "        case x if x > 10:\n",
    "            return f\"Matched a value greater than 10: {x}\"\n",
    "        case _:\n",
    "            return \"No match\"\n",
    "\n",
    "print(process_data(1))  # 输出: Matched 1\n",
    "print(process_data(\"hello\"))  # 输出: Matched 'hello'\n",
    "print(process_data([3, 4]))  # 输出: Matched a list with two elements: 3, 4\n",
    "print(process_data({\"key\": \"value\"}))  # 输出: Matched a dictionary with key 'key' and value: value\n",
    "print(process_data(MyClass(8, 9)))  # 输出: Matched MyClass instance with attr1: 8, attr2: 9\n",
    "print(process_data(15))  # 输出: Matched a value greater than 10: 15"
   ]
  },
  {
   "cell_type": "markdown",
   "metadata": {},
   "source": [
    "\n",
    "\n",
    "通过这些示例，你可以看到 `match` 语句的强大和灵活性，它能够处理各种复杂的数据结构和条件。"
   ]
  }
 ],
 "metadata": {
  "kernelspec": {
   "display_name": "3.13.1",
   "language": "python",
   "name": "python3"
  },
  "language_info": {
   "codemirror_mode": {
    "name": "ipython",
    "version": 3
   },
   "file_extension": ".py",
   "mimetype": "text/x-python",
   "name": "python",
   "nbconvert_exporter": "python",
   "pygments_lexer": "ipython3",
   "version": "3.13.1"
  }
 },
 "nbformat": 4,
 "nbformat_minor": 2
}
