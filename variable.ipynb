{
 "cells": [
  {
   "cell_type": "markdown",
   "metadata": {},
   "source": [
    "# 变量"
   ]
  },
  {
   "cell_type": "code",
   "execution_count": null,
   "metadata": {},
   "outputs": [],
   "source": [
    "x = 1"
   ]
  },
  {
   "cell_type": "markdown",
   "metadata": {},
   "source": [
    "变量可以被多次赋值："
   ]
  },
  {
   "cell_type": "code",
   "execution_count": null,
   "metadata": {},
   "outputs": [],
   "source": [
    "x = 2\n",
    "print(x)\n",
    "x = 3\n",
    "print(x)\n",
    "x = 'hello'\n",
    "print(x)"
   ]
  },
  {
   "cell_type": "markdown",
   "metadata": {},
   "source": [
    "变量的值还可以赋值给另外一个变量："
   ]
  },
  {
   "cell_type": "code",
   "execution_count": null,
   "metadata": {},
   "outputs": [],
   "source": [
    "y = x\n",
    "print(y)"
   ]
  },
  {
   "cell_type": "markdown",
   "metadata": {},
   "source": [
    "变量还有便捷的赋值方式："
   ]
  },
  {
   "cell_type": "code",
   "execution_count": 6,
   "metadata": {},
   "outputs": [
    {
     "name": "stdout",
     "output_type": "stream",
     "text": [
      "3 4\n",
      "3 3 3\n"
     ]
    }
   ],
   "source": [
    "a, b = 3, 4\n",
    "print(a, b)\n",
    "\n",
    "x = y = z = 3\n",
    "print(x, y, z)"
   ]
  },
  {
   "cell_type": "markdown",
   "metadata": {},
   "source": [
    "## 命名规范\n",
    "\n",
    "学习变量命名规范的意义：\n",
    "\n",
    "- 代码行数增多之后，有意义的变量命名能帮你快速理解代码逻辑\n",
    "- 规范化的变量名能帮你区分变量代表的对象，如函数、类\n",
    "- 规范化的变量名有助于你避免程序错误\n",
    "\n",
    "合法的变量名：\n",
    "\n",
    "- 变量名只能包含字母、数字、下划线且不能以数字开头\n",
    "- 变量名中不能包含空格\n",
    "- 变量名中不能使用关键字\n",
    "\n",
    "好的命名习惯：\n",
    "\n",
    "- 简短\n",
    "- 描述性强\n",
    "- 多个单词用 `_` 连接\n"
   ]
  }
 ],
 "metadata": {
  "kernelspec": {
   "display_name": "3.13.1",
   "language": "python",
   "name": "python3"
  },
  "language_info": {
   "codemirror_mode": {
    "name": "ipython",
    "version": 3
   },
   "file_extension": ".py",
   "mimetype": "text/x-python",
   "name": "python",
   "nbconvert_exporter": "python",
   "pygments_lexer": "ipython3",
   "version": "3.13.1"
  }
 },
 "nbformat": 4,
 "nbformat_minor": 2
}
