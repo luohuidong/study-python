{
 "cells": [
  {
   "cell_type": "markdown",
   "metadata": {},
   "source": [
    "# 数据类型\n",
    "\n",
    "常见数据类型：\n",
    "\n",
    "- 常量：`None`\n",
    "- 逻辑值：`True`、`False`\n",
    "- 空集：`''`、`()`、`[]`、`{}`、`set()`、`range(0)`\n",
    "- 数字：`int`、`float`\n",
    "- 序列：`list`、`tuple`、`range`\n",
    "- 文本序列：`str`\n",
    "- 集合：set\n",
    "- 映射：dict"
   ]
  }
 ],
 "metadata": {
  "language_info": {
   "name": "python"
  }
 },
 "nbformat": 4,
 "nbformat_minor": 2
}
