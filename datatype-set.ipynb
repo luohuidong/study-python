{
 "cells": [
  {
   "cell_type": "markdown",
   "metadata": {},
   "source": [
    "# 集合\n",
    "\n",
    "集合类型包括 `set` 和 `frozenset` 两种对象，`set` 对象可变，`frozenset` 对象不可变。"
   ]
  },
  {
   "cell_type": "code",
   "execution_count": 3,
   "metadata": {},
   "outputs": [
    {
     "name": "stdout",
     "output_type": "stream",
     "text": [
      "{'wilson', 'yin'}\n",
      "{'s', 'o', 'w', 'n', 'i', 'l'}\n"
     ]
    }
   ],
   "source": [
    "# 创建 set 对象\n",
    "\n",
    "# 使用 {} 创建 set 对象\n",
    "tmp = {'wilson', 'yin'}\n",
    "print(tmp)\n",
    "\n",
    "# 使用 set() 函数创建 set 对象\n",
    "tmp = set('wilson')\n",
    "print(tmp)"
   ]
  },
  {
   "cell_type": "markdown",
   "metadata": {},
   "source": [
    "# set 对象常用操作"
   ]
  },
  {
   "cell_type": "code",
   "execution_count": 18,
   "metadata": {},
   "outputs": [
    {
     "name": "stdout",
     "output_type": "stream",
     "text": [
      "判断元素是否为 set 对象中： True\n"
     ]
    }
   ],
   "source": [
    "# 判断元素是否在 set 对象中\n",
    "tmp = {'wilson', 'yin'}\n",
    "print('wilson' in tmp)  "
   ]
  },
  {
   "cell_type": "code",
   "execution_count": 15,
   "metadata": {},
   "outputs": [
    {
     "name": "stdout",
     "output_type": "stream",
     "text": [
      "2\n"
     ]
    }
   ],
   "source": [
    "# 获取 set 对象的长度\n",
    "tmp = {'wilson', 'yin'}\n",
    "print(len(tmp))  "
   ]
  },
  {
   "cell_type": "code",
   "execution_count": 16,
   "metadata": {},
   "outputs": [
    {
     "name": "stdout",
     "output_type": "stream",
     "text": [
      "True\n"
     ]
    }
   ],
   "source": [
    "# 判断是否为子集\n",
    "tmp = {'wilson', 'yin'}\n",
    "tmp2 = {'wilson', 'yin'}\n",
    "print(tmp <= tmp2)"
   ]
  },
  {
   "cell_type": "code",
   "execution_count": 17,
   "metadata": {},
   "outputs": [
    {
     "name": "stdout",
     "output_type": "stream",
     "text": [
      "False\n"
     ]
    }
   ],
   "source": [
    "# 判断是否为真子集\n",
    "tmp = {'wilson', 'yin'}\n",
    "tmp2 = {'wilson', 'yin'}\n",
    "print(tmp < tmp2)"
   ]
  }
 ],
 "metadata": {
  "kernelspec": {
   "display_name": "3.13.1",
   "language": "python",
   "name": "python3"
  },
  "language_info": {
   "codemirror_mode": {
    "name": "ipython",
    "version": 3
   },
   "file_extension": ".py",
   "mimetype": "text/x-python",
   "name": "python",
   "nbconvert_exporter": "python",
   "pygments_lexer": "ipython3",
   "version": "3.13.1"
  }
 },
 "nbformat": 4,
 "nbformat_minor": 2
}
