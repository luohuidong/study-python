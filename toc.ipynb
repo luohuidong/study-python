{
 "cells": [
  {
   "cell_type": "markdown",
   "metadata": {},
   "source": [
    "# Python 教程\n",
    "\n",
    "- [输入输出](./input-output.ipynb)\n",
    "- [变量](./variable.ipynb)\n",
    "- [数据类型](./datatype.ipynb)\n",
    "    - [字符串](./datatype-string.ipynb)\n",
    "    - [数字类型](./datatype-num.ipynb)\n",
    "    - [序列类型](./datatype-sequence.ipynb)\n",
    "      - [列表](./datatype-list.ipynb)\n",
    "      - [元组](./datatype-turple.ipynb)\n",
    "    - [集合](./datatype-set.ipynb)\n",
    "    - [映射与字典](./datatype-dict.ipynb)\n",
    "- 判断与循环\n",
    "  - [if](./if.ipynb)\n",
    "  - [match](./match.ipynb)"
   ]
  }
 ],
 "metadata": {
  "kernelspec": {
   "display_name": "3.13.1",
   "language": "python",
   "name": "python3"
  },
  "language_info": {
   "name": "python",
   "version": "3.13.1"
  }
 },
 "nbformat": 4,
 "nbformat_minor": 2
}
