{
 "cells": [
  {
   "cell_type": "markdown",
   "metadata": {},
   "source": [
    "# Python 教程\n",
    "\n",
    "- [变量](./variable.ipynb)\n",
    "- [数据类型](./datatype/overview.ipynb)\n",
    "    - [字符串](./datatype/string.ipynb)\n",
    "    - [数字类型](./datatype/num.ipynb)\n",
    "    - [序列类型](./datatype/sequence.ipynb)\n",
    "      - [列表](./datatype/list.ipynb)\n",
    "      - [元组](./datatype/turple.ipynb)\n",
    "    - [集合](./datatype/set.ipynb)\n",
    "    - [映射与字典](./datatype/dict.ipynb)\n",
    "- 判断与循环\n",
    "  - [if](./control-flow-statement-if.ipynb)\n",
    "  - [match](./control-flow-statement-match.ipynb)\n",
    "  - [循环](./control-flow-statement-loop.ipynb)\n",
    "- 输入输出与文件操作\n",
    "  - [输入输出](./input-output.ipynb)\n",
    "  - [命令行](./command-line.ipynb)\n",
    "  - [格式化输出](./command-line.ipynb)\n",
    "- [函数](./function/overview.ipynb)\n",
    "  - [参数](./function/argument.ipynb)\n",
    "  - [偏函数](./function/partial-function.ipynb)\n",
    "  - [装饰器](./function/decorator.ipynb)\n",
    "- [类](./class/overw.ipynb)"
   ]
  }
 ],
 "metadata": {
  "kernelspec": {
   "display_name": "3.13.1",
   "language": "python",
   "name": "python3"
  },
  "language_info": {
   "name": "python",
   "version": "3.13.1"
  }
 },
 "nbformat": 4,
 "nbformat_minor": 2
}
